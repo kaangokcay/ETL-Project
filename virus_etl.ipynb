{
 "cells": [
  {
   "cell_type": "code",
   "execution_count": null,
   "metadata": {},
   "outputs": [],
   "source": [
    "print(\"Hello Virus!\")"
   ]
  },
  {
   "cell_type": "code",
   "execution_count": null,
   "metadata": {},
   "outputs": [],
   "source": [
    "import pandas as pd\n",
    "from sqlalchemy import create_engine\n",
    "import numpy as np\n",
    "import datetime"
   ]
  },
  {
   "cell_type": "code",
   "execution_count": null,
   "metadata": {},
   "outputs": [],
   "source": [
    "# REFERENCE CODE"
   ]
  },
  {
   "cell_type": "code",
   "execution_count": null,
   "metadata": {},
   "outputs": [],
   "source": [
    "# Store CSVs in dataframes\n",
    "dataset_1 = (\"Data/2019_nCoV_data.csv\")\n",
    "\n",
    "nCoV_df = pd.read_csv(dataset_1)\n",
    "nCoV_df.head()"
   ]
  },
  {
   "cell_type": "code",
   "execution_count": null,
   "metadata": {},
   "outputs": [],
   "source": [
    "# pandas drop columns using list of column names\n",
    "nCoV_df = nCoV_df.drop(['Sno', 'Province/State', 'Last Update'], axis=1)\n",
    "nCoV_df.head()"
   ]
  },
  {
   "cell_type": "code",
   "execution_count": null,
   "metadata": {},
   "outputs": [],
   "source": [
    "# Either transform the data, or create new dataframes with only selected columns\n",
    "\n",
    "# Transform:\n",
    "#new_premise_file_df = premise_file_df[[\"Premises Name\", \"County ID Code\"]].copy()\n",
    "#new_premise_file_df.columns = [\"premise_name\", \"county_id\"]\n",
    "#new_premise_file_df.head()\n",
    "\n",
    "\n",
    "# Create new df with select columns:\n",
    "#new_customer_data_df = customer_data_df[['id', 'first_name', 'last_name']].copy()\n",
    "#new_customer_data_df.head()"
   ]
  },
  {
   "cell_type": "code",
   "execution_count": null,
   "metadata": {},
   "outputs": [],
   "source": [
    "# For BERNT:\n",
    "# How to rename columns \n",
    "#new_premise_file_df.columns = [\"premise_name\", \"county_id\"]"
   ]
  },
  {
   "cell_type": "code",
   "execution_count": null,
   "metadata": {},
   "outputs": [],
   "source": [
    "# Connect to database\n",
    "\n",
    "rds_connection_string = \"postgres:postgres@localhost:5432/<name_of_database>_db\"\n",
    "engine = create_engine(f'postgresql://{rds_connection_string}')"
   ]
  },
  {
   "cell_type": "code",
   "execution_count": null,
   "metadata": {},
   "outputs": [],
   "source": [
    "# Check for tables\n",
    "\n",
    "engine.table_names()"
   ]
  },
  {
   "cell_type": "code",
   "execution_count": null,
   "metadata": {},
   "outputs": [],
   "source": [
    "# Use pandas to load CSV into SQL database\n",
    "\n",
    "#new_customer_data_df.to_sql(name='customer_name', con=engine, if_exists='append', index=False)"
   ]
  },
  {
   "cell_type": "code",
   "execution_count": null,
   "metadata": {},
   "outputs": [],
   "source": [
    "# Use PGAdmin to verify that data loaded.\n",
    "\n",
    "# Alternatively, try:\n",
    "#pd.read_sql_query('select * from customer_name', con=engine).head()"
   ]
  },
  {
   "cell_type": "code",
   "execution_count": null,
   "metadata": {},
   "outputs": [],
   "source": [
<<<<<<< HEAD
    "# REFERENCE CODE ENDS"
   ]
  },
  {
   "cell_type": "code",
   "execution_count": null,
   "metadata": {},
   "outputs": [],
   "source": [
=======
>>>>>>> master
    "# KAAN Code Starts"
   ]
  },
  {
   "cell_type": "code",
   "execution_count": null,
   "metadata": {},
   "outputs": [],
   "source": [
    "# KAAN Code Ends"
   ]
  },
  {
   "cell_type": "code",
   "execution_count": null,
   "metadata": {},
   "outputs": [],
   "source": [
    "# BERNT Code Starts"
   ]
  },
  {
   "cell_type": "code",
   "execution_count": null,
   "metadata": {},
   "outputs": [],
   "source": [
    "# Load in df's\n",
<<<<<<< HEAD
    "dataset_1 = (\"Data/covid_19_data.csv\")\n",
    "\n",
    "nCoV_df = pd.read_csv(dataset_1, parse_dates = [\"ObservationDate\"])\n",
=======
    "dataset_1 = (\"Data/2019_nCoV_data.csv\")\n",
    "\n",
    "nCoV_df = pd.read_csv(dataset_1)\n",
>>>>>>> master
    "nCoV_df.head()"
   ]
  },
  {
   "cell_type": "code",
   "execution_count": null,
   "metadata": {},
   "outputs": [],
   "source": [
    "# pandas drop columns using list of column names\n",
<<<<<<< HEAD
    "nCoV_df = nCoV_df.drop(['SNo', 'Province/State', 'Last Update'], axis=1)\n",
=======
    "nCoV_df = nCoV_df.drop(['Sno', 'Province/State', 'Last Update'], axis=1)\n",
>>>>>>> master
    "nCoV_df.head()"
   ]
  },
  {
   "cell_type": "code",
   "execution_count": null,
   "metadata": {},
   "outputs": [],
<<<<<<< HEAD
   "source": [
    "# rename columns \n",
    "nCoV_df.columns = [\"Date\", \"Country\", \"Confirmed_Cases\", \"Deaths\", \"Recoveries\"]\n",
    "nCoV_df"
   ]
  },
  {
   "cell_type": "code",
   "execution_count": null,
   "metadata": {},
   "outputs": [],
   "source": [
    "# Here we are counting what day the incident occurred - based on the first entry recorded by country.\n",
    "# We discussed this, as we were very interested in trying to figure out how to bin the data.\n",
    "# We realized that that was getting into data analysis, and decided to leave more granular data \n",
    "# available for our database. That way any future analyst could decide for themselves what they'd \n",
    "# like to do with it. \n",
    "\n",
    "nCoV_df['Day #'] = (nCoV_df['Date'] - min(nCoV_df['Date'])).dt.days + 1\n",
    "#nCoV_df.iloc[2000]\n",
    "nCoV_df"
   ]
  },
  {
   "cell_type": "code",
   "execution_count": null,
   "metadata": {},
   "outputs": [],
   "source": [
    "nCoV_df['Virus_Name'] = 'Covid19'\n",
    "nCoV_df.tail()"
   ]
  },
  {
   "cell_type": "code",
   "execution_count": null,
   "metadata": {},
   "outputs": [],
   "source": [
    "nCoV_df['Year'] = pd.DatetimeIndex(nCoV_df['Date']).year\n",
    "nCoV_df['Month'] = pd.DatetimeIndex(nCoV_df['Date']).month\n",
    "nCoV_df['Day'] = pd.DatetimeIndex(nCoV_df['Date']).day\n",
    "\n",
    "nCoV_df"
   ]
  },
  {
   "cell_type": "code",
   "execution_count": null,
   "metadata": {},
   "outputs": [],
   "source": [
    "nCoV_df[\"Country\"].unique()"
   ]
  },
  {
   "cell_type": "code",
   "execution_count": null,
   "metadata": {},
   "outputs": [],
   "source": [
    "nCoV_df = nCoV_df.replace(to_replace =\"Mainland China\", \n",
    "                 value =\"China\") \n",
    "nCoV_df = nCoV_df.replace(to_replace =\"Macau\", \n",
    "                 value =\"Macao\") \n",
    "nCoV_df = nCoV_df.replace(to_replace =\"UK\", \n",
    "                 value =\"United Kingdom\")\n",
    "nCoV_df = nCoV_df.replace(to_replace = \"US\", \n",
    "                value = \"United States\")\n",
    "\n",
    "#nCoV_df.head()\n",
    "\n",
    "nCoV_df[\"Country\"].sort_values(ascending=True).unique()"
   ]
  },
  {
   "cell_type": "code",
   "execution_count": null,
   "metadata": {},
   "outputs": [],
   "source": [
    "# Group the data by Country/column type\n",
    "test = nCoV_df.groupby(['Country', 'Day #', 'Virus_Name'])['Confirmed_Cases', 'Deaths', 'Recoveries'].sum()\n",
    "#test.loc['Italy']\n",
    "test"
   ]
  },
  {
   "cell_type": "code",
   "execution_count": null,
   "metadata": {},
   "outputs": [],
   "source": [
    "# Connect to database\n",
    "\n",
    "rds_connection_string = \"postgres:postgres@localhost:5432/<name_of_database>_db\"\n",
    "engine = create_engine(f'postgresql://{rds_connection_string}')"
   ]
  },
  {
   "cell_type": "code",
   "execution_count": null,
   "metadata": {},
   "outputs": [],
   "source": [
    "# Check for tables\n",
    "\n",
    "engine.table_names()"
   ]
  },
  {
   "cell_type": "code",
   "execution_count": null,
   "metadata": {},
   "outputs": [],
   "source": [
    "# Use pandas to load CSV into SQL database\n",
    "\n",
    "new_customer_data_df.to_sql(name='customer_name', con=engine, if_exists='append', index=False)"
   ]
  },
  {
   "cell_type": "code",
   "execution_count": null,
   "metadata": {},
   "outputs": [],
   "source": [
    "# Use PGAdmin to verify that data loaded.\n",
    "\n",
    "# Alternatively, try:\n",
    "#pd.read_sql_query('select * from customer_name', con=engine).head()"
   ]
  },
  {
   "cell_type": "code",
   "execution_count": null,
   "metadata": {},
   "outputs": [],
   "source": [
    "# Extraneous Code\n",
    "\n",
    "# Extract numeric values for just Month and Year\n",
    "#nCoV_df['Year_Month'] = pd.to_datetime(nCoV_df['Date']).dt.to_period('M')\n",
    "#nCoV_df.tail()\n",
    "\n",
    "#test['Minimum_Month'] = min(nCoV_df[\"Year_Month\"])\n",
    "#test\n",
    "\n",
    "\n",
    "#nCoV_df['Bins'] = pd.cut(x=nCoV_df['Day #'], bins=[0, 7, 14, 21, 28, 35, 42, 49, 56, 63, 70],\n",
    "                         #labels=['Week 1', 'Week 2', 'Week 3', 'Week 4', 'Week 5', 'Week 6',\n",
    "                                 #'Week 7', 'Week 8', 'Week 9', 'Week 10'])\n",
    "#nCoV_df\n",
    "\n",
    "#df_ages['age_by_decade'] = pd.cut(x=df_ages['age'], bins=[20, 29, 39, 49], labels=['20s', '30s', '40s'])"
   ]
=======
   "source": []
>>>>>>> master
  },
  {
   "cell_type": "code",
   "execution_count": null,
   "metadata": {},
   "outputs": [],
   "source": [
    "# BERNT Code Ends"
   ]
  }
 ],
 "metadata": {
  "kernelspec": {
   "display_name": "Python 3",
   "language": "python",
   "name": "python3"
  },
  "language_info": {
   "codemirror_mode": {
    "name": "ipython",
    "version": 3
   },
   "file_extension": ".py",
   "mimetype": "text/x-python",
   "name": "python",
   "nbconvert_exporter": "python",
   "pygments_lexer": "ipython3",
   "version": "3.6.9"
  }
 },
 "nbformat": 4,
 "nbformat_minor": 2
}
