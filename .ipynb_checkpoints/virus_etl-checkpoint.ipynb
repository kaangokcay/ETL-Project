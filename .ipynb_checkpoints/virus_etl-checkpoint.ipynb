{
 "cells": [
  {
   "cell_type": "code",
   "execution_count": 1,
   "metadata": {},
   "outputs": [
    {
     "name": "stdout",
     "output_type": "stream",
     "text": [
      "Hello Virus!\n"
     ]
    }
   ],
   "source": [
    "print(\"Hello Virus!\")"
   ]
  },
  {
   "cell_type": "code",
   "execution_count": null,
   "metadata": {},
   "outputs": [],
   "source": [
    "import pandas as pd\n",
    "from sqlalchemy import create_engine"
   ]
  },
  {
   "cell_type": "code",
   "execution_count": null,
   "metadata": {},
   "outputs": [],
   "source": [
    "# Store CSVs in dataframes\n",
    "\n",
    "sars_df = pd.read_csv(\"../Resources/csv_name_here.csv\")\n",
    "sars_df.head()"
   ]
  },
  {
   "cell_type": "code",
   "execution_count": null,
   "metadata": {},
   "outputs": [],
   "source": [
    "# Either transform the data, or create new dataframes with only selected columns\n",
    "\n",
    "# Transform:\n",
    "#new_premise_file_df = premise_file_df[[\"Premises Name\", \"County ID Code\"]].copy()\n",
    "#new_premise_file_df.columns = [\"premise_name\", \"county_id\"]\n",
    "#new_premise_file_df.head()\n",
    "\n",
    "\n",
    "# Create new df with select columns:\n",
    "#new_customer_data_df = customer_data_df[['id', 'first_name', 'last_name']].copy()\n",
    "#new_customer_data_df.head()"
   ]
  },
  {
   "cell_type": "code",
   "execution_count": null,
   "metadata": {},
   "outputs": [],
   "source": [
    "# For BERNT:\n",
    "# How to rename columns \n",
    "#new_premise_file_df.columns = [\"premise_name\", \"county_id\"]"
   ]
  },
  {
   "cell_type": "code",
   "execution_count": null,
   "metadata": {},
   "outputs": [],
   "source": [
    "# Connect to database\n",
    "\n",
    "rds_connection_string = \"postgres:postgres@localhost:5432/<name_of_database>_db\"\n",
    "engine = create_engine(f'postgresql://{rds_connection_string}')"
   ]
  },
  {
   "cell_type": "code",
   "execution_count": null,
   "metadata": {},
   "outputs": [],
   "source": [
    "# Check for tables\n",
    "\n",
    "engine.table_names()"
   ]
  },
  {
   "cell_type": "code",
   "execution_count": null,
   "metadata": {},
   "outputs": [],
   "source": [
    "# Use pandas to load CSV into SQL database\n",
    "\n",
    "#new_customer_data_df.to_sql(name='customer_name', con=engine, if_exists='append', index=False)"
   ]
  },
  {
   "cell_type": "code",
   "execution_count": null,
   "metadata": {},
   "outputs": [],
   "source": [
    "# Use PGAdmin to verify that data loaded.\n",
    "\n",
    "# Alternatively, try:\n",
    "#pd.read_sql_query('select * from customer_name', con=engine).head()"
   ]
  }
 ],
 "metadata": {
  "kernelspec": {
   "display_name": "Python 3",
   "language": "python",
   "name": "python3"
  },
  "language_info": {
   "codemirror_mode": {
    "name": "ipython",
    "version": 3
   },
   "file_extension": ".py",
   "mimetype": "text/x-python",
   "name": "python",
   "nbconvert_exporter": "python",
   "pygments_lexer": "ipython3",
   "version": "3.6.9"
  }
 },
 "nbformat": 4,
 "nbformat_minor": 2
}
